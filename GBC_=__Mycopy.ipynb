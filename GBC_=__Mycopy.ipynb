{
  "nbformat": 4,
  "nbformat_minor": 0,
  "metadata": {
    "colab": {
      "name": "GBC => Mycopy",
      "provenance": [],
      "collapsed_sections": []
    },
    "kernelspec": {
      "display_name": "Python 3",
      "language": "python",
      "name": "python3"
    },
    "language_info": {
      "codemirror_mode": {
        "name": "ipython",
        "version": 3
      },
      "file_extension": ".py",
      "mimetype": "text/x-python",
      "name": "python",
      "nbconvert_exporter": "python",
      "pygments_lexer": "ipython3",
      "version": "3.6.5"
    }
  },
  "cells": [
    {
      "cell_type": "code",
      "metadata": {
        "id": "U6zdOZicXump"
      },
      "source": [
        "import pandas as pd\n",
        "import numpy as np\n",
        "\n",
        "from sklearn.model_selection import KFold,train_test_split\n",
        "from sklearn import svm\n",
        "from sklearn.preprocessing import LabelEncoder,MinMaxScaler,StandardScaler\n",
        "\n",
        "import matplotlib.pyplot as plt\n",
        "from sklearn.model_selection import cross_val_score\n"
      ],
      "execution_count": null,
      "outputs": []
    },
    {
      "cell_type": "code",
      "metadata": {
        "colab": {
          "base_uri": "https://localhost:8080/"
        },
        "id": "Cm5rpWx_EpPQ",
        "outputId": "9764c78d-c3e8-473d-8662-6dfaf4ac361c"
      },
      "source": [
        "#Enter the mRMR filter part,x should be updated according to the filtered columns\n",
        "!git clone https://github.com/jundongl/scikit-feature.git\n",
        "%cd scikit-feature/\n",
        "!python setup.py install\n",
        "%cd ..\n",
        "!pip install pyswarms\n",
        "!wget https://github.com/aishwarya25252/tmp/raw/main/newFilterWrappers.zip\n",
        "!unzip -o newFilterWrappers.zip\n",
        "!mv newFilterWrappers/colon_microarray.csv colon_microarray.csv\n",
        "import newFilterWrappers as nf\n",
        "def mrmr(x,y,c):\n",
        "    filter=nf.Multivariate(x,y)\n",
        "    feature=filter.MRMR()\n",
        "    x1=x[feature].iloc[:,-c:]\n",
        "    print(x1)\n",
        "    return x1\n",
        "    "
      ],
      "execution_count": null,
      "outputs": [
        {
          "output_type": "stream",
          "text": [
            "fatal: destination path 'scikit-feature' already exists and is not an empty directory.\n",
            "/content/scikit-feature\n",
            "running install\n",
            "running build\n",
            "running build_py\n",
            "running install_lib\n",
            "running install_egg_info\n",
            "Removing /usr/local/lib/python3.7/dist-packages/skfeature-1.0.0.egg-info\n",
            "Writing /usr/local/lib/python3.7/dist-packages/skfeature-1.0.0.egg-info\n",
            "/content\n",
            "Requirement already satisfied: pyswarms in /usr/local/lib/python3.7/dist-packages (1.3.0)\n",
            "Requirement already satisfied: attrs in /usr/local/lib/python3.7/dist-packages (from pyswarms) (21.2.0)\n",
            "Requirement already satisfied: scipy in /usr/local/lib/python3.7/dist-packages (from pyswarms) (1.4.1)\n",
            "Requirement already satisfied: future in /usr/local/lib/python3.7/dist-packages (from pyswarms) (0.16.0)\n",
            "Requirement already satisfied: tqdm in /usr/local/lib/python3.7/dist-packages (from pyswarms) (4.41.1)\n",
            "Requirement already satisfied: pyyaml in /usr/local/lib/python3.7/dist-packages (from pyswarms) (3.13)\n",
            "Requirement already satisfied: numpy in /usr/local/lib/python3.7/dist-packages (from pyswarms) (1.19.5)\n",
            "Requirement already satisfied: matplotlib>=1.3.1 in /usr/local/lib/python3.7/dist-packages (from pyswarms) (3.2.2)\n",
            "Requirement already satisfied: kiwisolver>=1.0.1 in /usr/local/lib/python3.7/dist-packages (from matplotlib>=1.3.1->pyswarms) (1.3.1)\n",
            "Requirement already satisfied: pyparsing!=2.0.4,!=2.1.2,!=2.1.6,>=2.0.1 in /usr/local/lib/python3.7/dist-packages (from matplotlib>=1.3.1->pyswarms) (2.4.7)\n",
            "Requirement already satisfied: cycler>=0.10 in /usr/local/lib/python3.7/dist-packages (from matplotlib>=1.3.1->pyswarms) (0.10.0)\n",
            "Requirement already satisfied: python-dateutil>=2.1 in /usr/local/lib/python3.7/dist-packages (from matplotlib>=1.3.1->pyswarms) (2.8.1)\n",
            "Requirement already satisfied: six in /usr/local/lib/python3.7/dist-packages (from cycler>=0.10->matplotlib>=1.3.1->pyswarms) (1.15.0)\n",
            "--2021-06-23 17:39:35--  https://github.com/aishwarya25252/tmp/raw/main/newFilterWrappers.zip\n",
            "Resolving github.com (github.com)... 192.30.255.113\n",
            "Connecting to github.com (github.com)|192.30.255.113|:443... connected.\n",
            "HTTP request sent, awaiting response... 302 Found\n",
            "Location: https://raw.githubusercontent.com/aishwarya25252/tmp/main/newFilterWrappers.zip [following]\n",
            "--2021-06-23 17:39:35--  https://raw.githubusercontent.com/aishwarya25252/tmp/main/newFilterWrappers.zip\n",
            "Resolving raw.githubusercontent.com (raw.githubusercontent.com)... 185.199.108.133, 185.199.109.133, 185.199.110.133, ...\n",
            "Connecting to raw.githubusercontent.com (raw.githubusercontent.com)|185.199.108.133|:443... connected.\n",
            "HTTP request sent, awaiting response... 200 OK\n",
            "Length: 722726 (706K) [application/zip]\n",
            "Saving to: ‘newFilterWrappers.zip.1’\n",
            "\n",
            "newFilterWrappers.z 100%[===================>] 705.79K  --.-KB/s    in 0.03s   \n",
            "\n",
            "2021-06-23 17:39:35 (20.5 MB/s) - ‘newFilterWrappers.zip.1’ saved [722726/722726]\n",
            "\n",
            "Archive:  newFilterWrappers.zip\n",
            "  inflating: newFilterWrappers/_multivariate.py  \n",
            "  inflating: newFilterWrappers/_bootstarp.py  \n",
            "  inflating: newFilterWrappers/_univariate.py  \n",
            "  inflating: newFilterWrappers/_classifiers.py  \n",
            "  inflating: newFilterWrappers/filter.list  \n",
            "  inflating: newFilterWrappers/_GA.py  \n",
            "  inflating: newFilterWrappers/_PSO.py  \n",
            "  inflating: newFilterWrappers/data/colon.csv  \n",
            "  inflating: newFilterWrappers/requirements.txt  \n",
            "  inflating: newFilterWrappers/_data.py  \n",
            "  inflating: newFilterWrappers/__init__.py  \n",
            "  inflating: newFilterWrappers/colon_microarray.csv  \n",
            "  inflating: newFilterWrappers/__pycache__/_data.cpython-39.pyc  \n",
            "  inflating: newFilterWrappers/__pycache__/_GA.cpython-39.pyc  \n",
            "  inflating: newFilterWrappers/__pycache__/_univariate.cpython-39.pyc  \n",
            "  inflating: newFilterWrappers/__pycache__/_bootstarp.cpython-39.pyc  \n",
            "  inflating: newFilterWrappers/__pycache__/__init__.cpython-39.pyc  \n",
            "  inflating: newFilterWrappers/__pycache__/_classifiers.cpython-39.pyc  \n",
            "  inflating: newFilterWrappers/__pycache__/_multivariate.cpython-39.pyc  \n",
            "  inflating: newFilterWrappers/__pycache__/_PSO.cpython-39.pyc  \n"
          ],
          "name": "stdout"
        }
      ]
    },
    {
      "cell_type": "code",
      "metadata": {
        "id": "eG9g1119Xvdi"
      },
      "source": [
        "# from google.colab import files\n",
        "# uploaded = files.upload()"
      ],
      "execution_count": null,
      "outputs": []
    },
    {
      "cell_type": "code",
      "metadata": {
        "id": "kupk3bggXunB"
      },
      "source": [
        "# dataset=pd.read_csv('colon_microarray.csv')\n",
        "# dataset=pd.read_csv('mrmrLeukemia.csv')\n",
        "# dataset.head()"
      ],
      "execution_count": null,
      "outputs": []
    },
    {
      "cell_type": "code",
      "metadata": {
        "id": "Ug-EGeFiXunG",
        "colab": {
          "base_uri": "https://localhost:8080/",
          "height": 162
        },
        "outputId": "3af22ef6-3a08-4f92-e11e-5a8173411481"
      },
      "source": [
        "dataset.drop(axis=1,columns=[dataset.columns[0]],inplace=True)"
      ],
      "execution_count": null,
      "outputs": [
        {
          "output_type": "error",
          "ename": "NameError",
          "evalue": "ignored",
          "traceback": [
            "\u001b[0;31m---------------------------------------------------------------------------\u001b[0m",
            "\u001b[0;31mNameError\u001b[0m                                 Traceback (most recent call last)",
            "\u001b[0;32m<ipython-input-5-456f4c039627>\u001b[0m in \u001b[0;36m<module>\u001b[0;34m()\u001b[0m\n\u001b[0;32m----> 1\u001b[0;31m \u001b[0mdataset\u001b[0m\u001b[0;34m.\u001b[0m\u001b[0mdrop\u001b[0m\u001b[0;34m(\u001b[0m\u001b[0maxis\u001b[0m\u001b[0;34m=\u001b[0m\u001b[0;36m1\u001b[0m\u001b[0;34m,\u001b[0m\u001b[0mcolumns\u001b[0m\u001b[0;34m=\u001b[0m\u001b[0;34m[\u001b[0m\u001b[0mdataset\u001b[0m\u001b[0;34m.\u001b[0m\u001b[0mcolumns\u001b[0m\u001b[0;34m[\u001b[0m\u001b[0;36m0\u001b[0m\u001b[0;34m]\u001b[0m\u001b[0;34m]\u001b[0m\u001b[0;34m,\u001b[0m\u001b[0minplace\u001b[0m\u001b[0;34m=\u001b[0m\u001b[0;32mTrue\u001b[0m\u001b[0;34m)\u001b[0m\u001b[0;34m\u001b[0m\u001b[0;34m\u001b[0m\u001b[0m\n\u001b[0m",
            "\u001b[0;31mNameError\u001b[0m: name 'dataset' is not defined"
          ]
        }
      ]
    },
    {
      "cell_type": "code",
      "metadata": {
        "id": "UjCfhIIaXunI"
      },
      "source": [
        "l=LabelEncoder()\n",
        "y=l.fit_transform(dataset.iloc[:,-1]) #the class column\n",
        "y.shape"
      ],
      "execution_count": null,
      "outputs": []
    },
    {
      "cell_type": "code",
      "metadata": {
        "id": "r0mG5s4SXunJ"
      },
      "source": [
        "x=dataset.iloc[: , :-1]\n",
        "x.shape"
      ],
      "execution_count": null,
      "outputs": []
    },
    {
      "cell_type": "code",
      "metadata": {
        "id": "OqTCDfxbXunL"
      },
      "source": [
        "x=pd.DataFrame(MinMaxScaler().fit_transform(x))"
      ],
      "execution_count": null,
      "outputs": []
    },
    {
      "cell_type": "code",
      "metadata": {
        "id": "3OgBe0VgrqO4"
      },
      "source": [
        "x.head()"
      ],
      "execution_count": null,
      "outputs": []
    },
    {
      "cell_type": "code",
      "metadata": {
        "id": "W7IwMx6_XunM"
      },
      "source": [
        "r=x.shape[0]#62\n",
        "c=x.shape[1]#2000\n",
        "numberofsolutions=15"
      ],
      "execution_count": null,
      "outputs": []
    },
    {
      "cell_type": "code",
      "metadata": {
        "id": "QZclo2MHCQN-"
      },
      "source": [
        "from sklearn.metrics import accuracy_score\n",
        "from sklearn.model_selection import LeaveOneOut\n",
        "from sklearn.ensemble import RandomForestClassifier"
      ],
      "execution_count": null,
      "outputs": []
    },
    {
      "cell_type": "code",
      "metadata": {
        "id": "A0Cn4ipZ6qzP"
      },
      "source": [
        "import random\n",
        "from sklearn.model_selection import KFold "
      ],
      "execution_count": null,
      "outputs": []
    },
    {
      "cell_type": "code",
      "metadata": {
        "id": "hjVleAWpC0Gv",
        "colab": {
          "base_uri": "https://localhost:8080/",
          "height": 195
        },
        "outputId": "13d080c8-c0e8-4d24-9f8c-cf792a487109"
      },
      "source": [
        "r=x.shape[0]#62\n",
        "c=x.shape[1]#2000\n",
        "print(r, \", \", c)"
      ],
      "execution_count": null,
      "outputs": [
        {
          "output_type": "error",
          "ename": "NameError",
          "evalue": "ignored",
          "traceback": [
            "\u001b[0;31m---------------------------------------------------------------------------\u001b[0m",
            "\u001b[0;31mNameError\u001b[0m                                 Traceback (most recent call last)",
            "\u001b[0;32m<ipython-input-4-112e7923e397>\u001b[0m in \u001b[0;36m<module>\u001b[0;34m()\u001b[0m\n\u001b[0;32m----> 1\u001b[0;31m \u001b[0mr\u001b[0m\u001b[0;34m=\u001b[0m\u001b[0mx\u001b[0m\u001b[0;34m.\u001b[0m\u001b[0mshape\u001b[0m\u001b[0;34m[\u001b[0m\u001b[0;36m0\u001b[0m\u001b[0;34m]\u001b[0m\u001b[0;31m#62\u001b[0m\u001b[0;34m\u001b[0m\u001b[0;34m\u001b[0m\u001b[0m\n\u001b[0m\u001b[1;32m      2\u001b[0m \u001b[0mc\u001b[0m\u001b[0;34m=\u001b[0m\u001b[0mx\u001b[0m\u001b[0;34m.\u001b[0m\u001b[0mshape\u001b[0m\u001b[0;34m[\u001b[0m\u001b[0;36m1\u001b[0m\u001b[0;34m]\u001b[0m\u001b[0;31m#2000\u001b[0m\u001b[0;34m\u001b[0m\u001b[0;34m\u001b[0m\u001b[0m\n\u001b[1;32m      3\u001b[0m \u001b[0mprint\u001b[0m\u001b[0;34m(\u001b[0m\u001b[0mr\u001b[0m\u001b[0;34m,\u001b[0m \u001b[0;34m\", \"\u001b[0m\u001b[0;34m,\u001b[0m \u001b[0mc\u001b[0m\u001b[0;34m)\u001b[0m\u001b[0;34m\u001b[0m\u001b[0;34m\u001b[0m\u001b[0m\n",
            "\u001b[0;31mNameError\u001b[0m: name 'x' is not defined"
          ]
        }
      ]
    },
    {
      "cell_type": "code",
      "metadata": {
        "id": "3bwwc0vmXunN"
      },
      "source": [
        "class Solution:\n",
        "        \n",
        "    def __init__(self):\n",
        "        t=[]\n",
        "        for i in range(c):\n",
        "          t.append(random.random())\n",
        "        self.solution=t\n",
        "\n",
        "      #  self.solution=np.random.uniform(0,1,size=c)\n",
        "        self.fitness=self.loocv()\n",
        "        self.limit=0\n",
        "        #print(\"Initializing solution:\\n\")\n",
        "        #self.printsol()\n",
        "\n",
        "\n",
        "    def tupletolist(self,arr):\n",
        "       # print(\"tupletolist \",arr,\"\\n\")\n",
        "        l=[]\n",
        "        for i in arr:\n",
        "          l.append(i)\n",
        "        return(l)\n",
        "\n",
        "    #converts a cotinuous valued array to binary\n",
        "    def converttobinary(self):  \n",
        "      x=[]\n",
        "      for i in self.solution:\n",
        "            x.append(int(np.round((abs(i%2)))%2))\n",
        "      return(x)\n",
        "    \n",
        "    def ClassificationAccuracy(self):\n",
        "      model= svm.SVC(kernel='poly')\n",
        "      arr=np.nonzero(self.converttobinary())\n",
        "     \n",
        "      ret=self.tupletolist(arr[0])\n",
        "      x_train,x_test,y_train,y_test=train_test_split(x.iloc[:,ret],y,test_size=0.3)\n",
        "      m=model.fit(x_train,y_train)\n",
        "      predicted_y = model.predict(x_test)\n",
        "     # print(\"accuracy_score(y_test,predicted_y): \",accuracy_score(y_test,predicted_y))\n",
        "      return(accuracy_score(y_test,predicted_y))\n",
        "\n",
        "      \n",
        "\n",
        "    #return average kfold crossvalidation score\n",
        "    def fitnessfunc(self,k=10):\n",
        "        model= svm.SVC(kernel='poly')\n",
        "        ret=self.tupletolist(np.nonzero(self.converttobinary())[0])\n",
        "        score=cross_val_score(model, x.iloc[:,ret], y,cv=10,scoring='accuracy')\n",
        "       # print(\"10 fold cv scores \",score,\"\\n\")\n",
        "        return(sum(score)/k)\n",
        "    \n",
        "    # return loocv score\n",
        "    def loocv(self):\n",
        "     \n",
        "      cv=LeaveOneOut()\n",
        "      model=svm.SVC(kernel='poly')\n",
        "      ret=self.tupletolist(np.nonzero(self.converttobinary())[0])\n",
        "      if ret<=0:\n",
        "        return(0)\n",
        "      scores=cross_val_score(model, x.iloc[:,ret], y, scoring='accuracy', cv=cv)\n",
        "   #   print(\"CV score \",scores,\"\\n\")\n",
        "      return(sum(scores)/len(scores))\n",
        "\n",
        "    def printsol(self):\n",
        "      print(self.tupletolist(np.nonzero(self.converttobinary())[0]))\n",
        "\n"
      ],
      "execution_count": null,
      "outputs": []
    },
    {
      "cell_type": "code",
      "metadata": {
        "id": "OhxaMUGsXunS"
      },
      "source": [
        "  class ABC:\n",
        "    \n",
        "    def __init__(self,numberofsolutions):\n",
        "        self.pop=[]\n",
        "        for i in range(numberofsolutions):\n",
        "              self.pop.append(Solution())\n",
        "\n",
        "    def printsol(self):\n",
        "      print(self.tupletolist(np.nonzero(self.converttobinary())[0]))\n",
        "\n",
        "    def bestsol(self):\n",
        "        f=[]\n",
        "        m=-1\n",
        "        bestsolution=0\n",
        "        ctr=0\n",
        "        indx=0\n",
        "        for i in self.pop:\n",
        "            t=i.fitness\n",
        "            f.append(t)\n",
        "            if m<t:\n",
        "                indx=ctr\n",
        "                m=t\n",
        "                bestsolution=i\n",
        "            ctr+=1\n",
        "        return(bestsolution) #return best solution index in pop\n",
        "\n",
        "    #update and generate new solution newS\n",
        "    def update(self,i):  \n",
        "    #    print(\"updating   \")\n",
        "        r=np.random.randint(0,len(self.pop)) #choosing random neighbour\n",
        "        while(r==i):\n",
        "            r=np.random.randint(0,len(self.pop)) # random neighbour index in pop \n",
        "        newS=[] #new solution vector\n",
        "        rn=np.random.uniform(-1,1) \n",
        "       # for j in range(c):\n",
        "       #   newS.append(self.pop[i].solution[j]+rn*(self.pop[i].solution[j]-self.pop[i].solution[r]))\n",
        "       \n",
        "        newS=self.pop[i].solution\n",
        "        rj=np.random.randint(0,c) #random dimension to update\n",
        "        newS[rj]+=rn*(newS[rj]-self.pop[r].solution[rj])\n",
        "        newSolution=Solution()\n",
        "        newSolution.solution=newS\n",
        "        \n",
        "        newSolution.fitness=newSolution.loocv()\n",
        "\n",
        "       # print(np.nonzero(newSolution.converttobinary())[0])\n",
        "        return newSolution \n",
        "\n",
        "    def employed(self):\n",
        "         # print(\"Employed bee \")\n",
        "          for i in range(len(self.pop)):\n",
        "            c=self.update(i)\n",
        "            if self.pop[i].fitness<c.fitness:\n",
        "                self.pop[i]=c\n",
        "            else:\n",
        "                self.pop[i].limit+=1\n",
        "\n",
        "    def onlooker(self):\n",
        "       # print(\"Onlookerbee Phase\\n\")\n",
        "        p=[]  #possibility of selecting a particular solution\n",
        "        s=0\n",
        "        for i in self.pop: #calculate total fitness\n",
        "            s+=i.fitness\n",
        "    \n",
        "        for i in self.pop:  #calculate probability of each\n",
        "            p.append(i.fitness/s)\n",
        "        \n",
        "        select=[]\n",
        "        \n",
        "        noOfOnlooker=numberofsolutions\n",
        "        count=0     \n",
        "        i=0\n",
        "        while count<=noOfOnlooker:\n",
        "          if np.random.rand()<p[i]:#solution selected \n",
        "            select.append(i)\n",
        "            newS=self.update(i)\n",
        "          \n",
        "            child=self.crossover()\n",
        "            if child.fitness>self.pop[i].fitness:\n",
        "              self.pop[i]=child\n",
        "            else:\n",
        "              self.pop[i].limit+=1\n",
        "\n",
        "          count+=1\n",
        "          i+=1\n",
        "          if i==len(self.pop):\n",
        "            i=0  \n",
        "        \n",
        " \n",
        "     \n",
        "    def scout(self,maxlimit=5):\n",
        "\n",
        "      c=0\n",
        "      lmaxlimit=[] #stores indices of solutions that have exceeded maxlimit\n",
        "      for i in range(len(self.pop)):\n",
        "        if self.pop[i].limit>maxlimit:\n",
        "          lmaxlimit.append(i)\n",
        "      if len(lmaxlimit)>=2:\n",
        "        #first scout bee\n",
        "        lenl=len(lmaxlimit)\n",
        "        r=np.random.randint(0,lenl)\n",
        "        scoutindex=lmaxlimit.pop(r) \n",
        "        self.pop[scoutindex]=Solution()\n",
        "\n",
        "        #second scout bee\n",
        "            \n",
        "        mutate=self.mutation(queen)\n",
        "        self.pop[scoutindex]=mutate\n",
        "    \n",
        "        \n",
        "    #Apply uniform crossover\n",
        "    def crossover(self):\n",
        "      # print(\"from crossover function\")\n",
        "      selecting_neighbor=random.randint(0, len(self.pop)-1)\n",
        "\n",
        "      parentqueen=queen.solution #continuous value array like a chromosome\n",
        "      parentneighbour=obj.pop[selecting_neighbor].solution #continous value array like a chromosome\n",
        "\n",
        "      f11=[]\n",
        "      f22=[]\n",
        "      for j in range(len(parentqueen)):\n",
        "        rn=random.uniform(0,1)\n",
        "        if rn>0.6:\n",
        "          f11.append(parentqueen[j])\n",
        "          f22.append(parentneighbour[j])\n",
        "        else:\n",
        "          f11.append(parentneighbour[j])\n",
        "          f22.append(parentqueen[j])\n",
        "\n",
        "      f1=Solution()\n",
        "      f1.solution=f11\n",
        "      f1.fitness=f1.loocv() #calc fitness\n",
        "\n",
        "      f2=Solution()\n",
        "      f2.solution=f22\n",
        "      f2.fitness=f2.loocv() #calc fitness\n",
        "\n",
        "      if f1.fitness>f2.fitness:\n",
        "        newSolution=f1\n",
        "      else:\n",
        "        newSolution=f2\n",
        "      \n",
        "     # print(\"Child: \", np.nonzero(winner.converttobinary())[0])\n",
        "      return(newSolution)    \n",
        "    \n",
        "    def mutation(self,i):\n",
        "        mprVal=0.01\n",
        "        selectedsol = queen.solution\n",
        "        #for all the genes in the selectedsol\n",
        "        for j in range(len(selectedsol)):\n",
        "          #random no.\n",
        "          rn=random.uniform(0,1)\n",
        "          if rn<mprVal:\n",
        "            rij=random.uniform(-1,1)\n",
        "\n",
        "            randBidx=random.randint(0, len(self.pop)-1)\n",
        "            randB=(self.update(randBidx)).solution\n",
        "            # randB=obj.pop[selecting_neighbor].solution \n",
        "\n",
        "            # child=self.update(i)\n",
        "            selectedsol[j]=queen.solution[j]+(rij*(randB[j]-queen.solution[j]))\n",
        "        \n",
        "        f1=Solution()\n",
        "        f1.solution=selectedsol\n",
        "        f1.fitness=f1.loocv() #calc fitness\n",
        "        return(f1)\n"
      ],
      "execution_count": null,
      "outputs": []
    },
    {
      "cell_type": "code",
      "metadata": {
        "id": "9Nc9ntY-nkEe"
      },
      "source": [
        "maxIter=20 #100\n",
        "queen=[]\n",
        "numberofsolutions=15"
      ],
      "execution_count": null,
      "outputs": []
    },
    {
      "cell_type": "code",
      "metadata": {
        "id": "T_m_Gvn2m1RB"
      },
      "source": [
        "from sklearn.feature_selection import chi2\n",
        "from sklearn.feature_selection import SelectKBest, SelectPercentile"
      ],
      "execution_count": null,
      "outputs": []
    },
    {
      "cell_type": "code",
      "metadata": {
        "id": "ZLadCOP62978",
        "colab": {
          "base_uri": "https://localhost:8080/",
          "height": 320
        },
        "outputId": "b1225d46-83ea-4ff2-a582-4b9913f7964d"
      },
      "source": [
        "  #mrmr code\n",
        "  X=mrmr(x,y,c)"
      ],
      "execution_count": null,
      "outputs": [
        {
          "output_type": "error",
          "ename": "KeyboardInterrupt",
          "evalue": "ignored",
          "traceback": [
            "\u001b[0;31m---------------------------------------------------------------------------\u001b[0m",
            "\u001b[0;31mKeyboardInterrupt\u001b[0m                         Traceback (most recent call last)",
            "\u001b[0;32m<ipython-input-15-b66a2e17ed44>\u001b[0m in \u001b[0;36m<module>\u001b[0;34m()\u001b[0m\n\u001b[1;32m      1\u001b[0m \u001b[0;31m#mrmr code\u001b[0m\u001b[0;34m\u001b[0m\u001b[0;34m\u001b[0m\u001b[0;34m\u001b[0m\u001b[0m\n\u001b[0;32m----> 2\u001b[0;31m \u001b[0mX\u001b[0m\u001b[0;34m=\u001b[0m\u001b[0mmrmr\u001b[0m\u001b[0;34m(\u001b[0m\u001b[0mx\u001b[0m\u001b[0;34m,\u001b[0m\u001b[0my\u001b[0m\u001b[0;34m,\u001b[0m\u001b[0mc\u001b[0m\u001b[0;34m)\u001b[0m\u001b[0;34m\u001b[0m\u001b[0;34m\u001b[0m\u001b[0m\n\u001b[0m",
            "\u001b[0;32m<ipython-input-2-62564f417182>\u001b[0m in \u001b[0;36mmrmr\u001b[0;34m(x, y, c)\u001b[0m\n\u001b[1;32m     11\u001b[0m \u001b[0;32mdef\u001b[0m \u001b[0mmrmr\u001b[0m\u001b[0;34m(\u001b[0m\u001b[0mx\u001b[0m\u001b[0;34m,\u001b[0m\u001b[0my\u001b[0m\u001b[0;34m,\u001b[0m\u001b[0mc\u001b[0m\u001b[0;34m)\u001b[0m\u001b[0;34m:\u001b[0m\u001b[0;34m\u001b[0m\u001b[0;34m\u001b[0m\u001b[0m\n\u001b[1;32m     12\u001b[0m     \u001b[0mfilter\u001b[0m\u001b[0;34m=\u001b[0m\u001b[0mnf\u001b[0m\u001b[0;34m.\u001b[0m\u001b[0mMultivariate\u001b[0m\u001b[0;34m(\u001b[0m\u001b[0mx\u001b[0m\u001b[0;34m,\u001b[0m\u001b[0my\u001b[0m\u001b[0;34m)\u001b[0m\u001b[0;34m\u001b[0m\u001b[0;34m\u001b[0m\u001b[0m\n\u001b[0;32m---> 13\u001b[0;31m     \u001b[0mfeature\u001b[0m\u001b[0;34m=\u001b[0m\u001b[0mfilter\u001b[0m\u001b[0;34m.\u001b[0m\u001b[0mMRMR\u001b[0m\u001b[0;34m(\u001b[0m\u001b[0;34m)\u001b[0m\u001b[0;34m\u001b[0m\u001b[0;34m\u001b[0m\u001b[0m\n\u001b[0m\u001b[1;32m     14\u001b[0m     \u001b[0mx1\u001b[0m\u001b[0;34m=\u001b[0m\u001b[0mx\u001b[0m\u001b[0;34m[\u001b[0m\u001b[0mfeature\u001b[0m\u001b[0;34m]\u001b[0m\u001b[0;34m.\u001b[0m\u001b[0miloc\u001b[0m\u001b[0;34m[\u001b[0m\u001b[0;34m:\u001b[0m\u001b[0;34m,\u001b[0m\u001b[0;34m-\u001b[0m\u001b[0mc\u001b[0m\u001b[0;34m:\u001b[0m\u001b[0;34m]\u001b[0m\u001b[0;34m\u001b[0m\u001b[0;34m\u001b[0m\u001b[0m\n\u001b[1;32m     15\u001b[0m     \u001b[0mprint\u001b[0m\u001b[0;34m(\u001b[0m\u001b[0mx1\u001b[0m\u001b[0;34m)\u001b[0m\u001b[0;34m\u001b[0m\u001b[0;34m\u001b[0m\u001b[0m\n",
            "\u001b[0;32m/content/newFilterWrappers/_multivariate.py\u001b[0m in \u001b[0;36mMRMR\u001b[0;34m(self)\u001b[0m\n\u001b[1;32m     10\u001b[0m         \u001b[0md\u001b[0m\u001b[0;34m=\u001b[0m\u001b[0mself\u001b[0m\u001b[0;34m.\u001b[0m\u001b[0mdata\u001b[0m\u001b[0;34m.\u001b[0m\u001b[0mcopy\u001b[0m\u001b[0;34m(\u001b[0m\u001b[0;34m)\u001b[0m\u001b[0;34m\u001b[0m\u001b[0;34m\u001b[0m\u001b[0m\n\u001b[1;32m     11\u001b[0m         \u001b[0ml\u001b[0m\u001b[0;34m=\u001b[0m\u001b[0mself\u001b[0m\u001b[0;34m.\u001b[0m\u001b[0mlables\u001b[0m\u001b[0;34m.\u001b[0m\u001b[0mcopy\u001b[0m\u001b[0;34m(\u001b[0m\u001b[0;34m)\u001b[0m\u001b[0;34m\u001b[0m\u001b[0;34m\u001b[0m\u001b[0m\n\u001b[0;32m---> 12\u001b[0;31m         \u001b[0msorted_features\u001b[0m\u001b[0;34m=\u001b[0m\u001b[0mMRMR\u001b[0m\u001b[0;34m.\u001b[0m\u001b[0mmrmr\u001b[0m\u001b[0;34m(\u001b[0m\u001b[0md\u001b[0m\u001b[0;34m,\u001b[0m \u001b[0ml\u001b[0m\u001b[0;34m,\u001b[0m \u001b[0mn_selected_features\u001b[0m\u001b[0;34m=\u001b[0m\u001b[0md\u001b[0m\u001b[0;34m.\u001b[0m\u001b[0mshape\u001b[0m\u001b[0;34m[\u001b[0m\u001b[0;36m1\u001b[0m\u001b[0;34m]\u001b[0m\u001b[0;34m)\u001b[0m\u001b[0;34m[\u001b[0m\u001b[0;36m0\u001b[0m\u001b[0;34m]\u001b[0m\u001b[0;34m\u001b[0m\u001b[0;34m\u001b[0m\u001b[0m\n\u001b[0m\u001b[1;32m     13\u001b[0m         \u001b[0;32mreturn\u001b[0m \u001b[0msorted_features\u001b[0m\u001b[0;34m\u001b[0m\u001b[0;34m\u001b[0m\u001b[0m\n\u001b[1;32m     14\u001b[0m \u001b[0;34m\u001b[0m\u001b[0m\n",
            "\u001b[0;32m/usr/local/lib/python3.7/dist-packages/skfeature/function/information_theoretical_based/MRMR.py\u001b[0m in \u001b[0;36mmrmr\u001b[0;34m(X, y, **kwargs)\u001b[0m\n\u001b[1;32m     31\u001b[0m     \u001b[0;32mif\u001b[0m \u001b[0;34m'n_selected_features'\u001b[0m \u001b[0;32min\u001b[0m \u001b[0mkwargs\u001b[0m\u001b[0;34m.\u001b[0m\u001b[0mkeys\u001b[0m\u001b[0;34m(\u001b[0m\u001b[0;34m)\u001b[0m\u001b[0;34m:\u001b[0m\u001b[0;34m\u001b[0m\u001b[0;34m\u001b[0m\u001b[0m\n\u001b[1;32m     32\u001b[0m         \u001b[0mn_selected_features\u001b[0m \u001b[0;34m=\u001b[0m \u001b[0mkwargs\u001b[0m\u001b[0;34m[\u001b[0m\u001b[0;34m'n_selected_features'\u001b[0m\u001b[0;34m]\u001b[0m\u001b[0;34m\u001b[0m\u001b[0;34m\u001b[0m\u001b[0m\n\u001b[0;32m---> 33\u001b[0;31m         \u001b[0mF\u001b[0m\u001b[0;34m,\u001b[0m \u001b[0mJ_CMI\u001b[0m\u001b[0;34m,\u001b[0m \u001b[0mMIfy\u001b[0m \u001b[0;34m=\u001b[0m \u001b[0mLCSI\u001b[0m\u001b[0;34m.\u001b[0m\u001b[0mlcsi\u001b[0m\u001b[0;34m(\u001b[0m\u001b[0mX\u001b[0m\u001b[0;34m,\u001b[0m \u001b[0my\u001b[0m\u001b[0;34m,\u001b[0m \u001b[0mgamma\u001b[0m\u001b[0;34m=\u001b[0m\u001b[0;36m0\u001b[0m\u001b[0;34m,\u001b[0m \u001b[0mfunction_name\u001b[0m\u001b[0;34m=\u001b[0m\u001b[0;34m'MRMR'\u001b[0m\u001b[0;34m,\u001b[0m \u001b[0mn_selected_features\u001b[0m\u001b[0;34m=\u001b[0m\u001b[0mn_selected_features\u001b[0m\u001b[0;34m)\u001b[0m\u001b[0;34m\u001b[0m\u001b[0;34m\u001b[0m\u001b[0m\n\u001b[0m\u001b[1;32m     34\u001b[0m     \u001b[0;32melse\u001b[0m\u001b[0;34m:\u001b[0m\u001b[0;34m\u001b[0m\u001b[0;34m\u001b[0m\u001b[0m\n\u001b[1;32m     35\u001b[0m         \u001b[0mF\u001b[0m\u001b[0;34m,\u001b[0m \u001b[0mJ_CMI\u001b[0m\u001b[0;34m,\u001b[0m \u001b[0mMIfy\u001b[0m \u001b[0;34m=\u001b[0m \u001b[0mLCSI\u001b[0m\u001b[0;34m.\u001b[0m\u001b[0mlcsi\u001b[0m\u001b[0;34m(\u001b[0m\u001b[0mX\u001b[0m\u001b[0;34m,\u001b[0m \u001b[0my\u001b[0m\u001b[0;34m,\u001b[0m \u001b[0mgamma\u001b[0m\u001b[0;34m=\u001b[0m\u001b[0;36m0\u001b[0m\u001b[0;34m,\u001b[0m \u001b[0mfunction_name\u001b[0m\u001b[0;34m=\u001b[0m\u001b[0;34m'MRMR'\u001b[0m\u001b[0;34m)\u001b[0m\u001b[0;34m\u001b[0m\u001b[0;34m\u001b[0m\u001b[0m\n",
            "\u001b[0;32m/usr/local/lib/python3.7/dist-packages/skfeature/function/information_theoretical_based/LCSI.py\u001b[0m in \u001b[0;36mlcsi\u001b[0;34m(X, y, **kwargs)\u001b[0m\n\u001b[1;32m     97\u001b[0m             \u001b[0;32mif\u001b[0m \u001b[0mi\u001b[0m \u001b[0;32mnot\u001b[0m \u001b[0;32min\u001b[0m \u001b[0mF\u001b[0m\u001b[0;34m:\u001b[0m\u001b[0;34m\u001b[0m\u001b[0;34m\u001b[0m\u001b[0m\n\u001b[1;32m     98\u001b[0m                 \u001b[0mf\u001b[0m \u001b[0;34m=\u001b[0m \u001b[0mX\u001b[0m\u001b[0;34m[\u001b[0m\u001b[0;34m:\u001b[0m\u001b[0;34m,\u001b[0m \u001b[0mi\u001b[0m\u001b[0;34m]\u001b[0m\u001b[0;34m\u001b[0m\u001b[0;34m\u001b[0m\u001b[0m\n\u001b[0;32m---> 99\u001b[0;31m                 \u001b[0mt2\u001b[0m\u001b[0;34m[\u001b[0m\u001b[0mi\u001b[0m\u001b[0;34m]\u001b[0m \u001b[0;34m+=\u001b[0m \u001b[0mmidd\u001b[0m\u001b[0;34m(\u001b[0m\u001b[0mf_select\u001b[0m\u001b[0;34m,\u001b[0m \u001b[0mf\u001b[0m\u001b[0;34m)\u001b[0m\u001b[0;34m\u001b[0m\u001b[0;34m\u001b[0m\u001b[0m\n\u001b[0m\u001b[1;32m    100\u001b[0m                 \u001b[0mt3\u001b[0m\u001b[0;34m[\u001b[0m\u001b[0mi\u001b[0m\u001b[0;34m]\u001b[0m \u001b[0;34m+=\u001b[0m \u001b[0mcmidd\u001b[0m\u001b[0;34m(\u001b[0m\u001b[0mf_select\u001b[0m\u001b[0;34m,\u001b[0m \u001b[0mf\u001b[0m\u001b[0;34m,\u001b[0m \u001b[0my\u001b[0m\u001b[0;34m)\u001b[0m\u001b[0;34m\u001b[0m\u001b[0;34m\u001b[0m\u001b[0m\n\u001b[1;32m    101\u001b[0m                 \u001b[0;31m# calculate j_cmi for feature i (not in F)\u001b[0m\u001b[0;34m\u001b[0m\u001b[0;34m\u001b[0m\u001b[0;34m\u001b[0m\u001b[0m\n",
            "\u001b[0;32m/usr/local/lib/python3.7/dist-packages/skfeature/utility/entropy_estimators.py\u001b[0m in \u001b[0;36mmidd\u001b[0;34m(x, y)\u001b[0m\n\u001b[1;32m    101\u001b[0m     \"\"\"\n\u001b[1;32m    102\u001b[0m \u001b[0;34m\u001b[0m\u001b[0m\n\u001b[0;32m--> 103\u001b[0;31m     \u001b[0;32mreturn\u001b[0m \u001b[0;34m-\u001b[0m\u001b[0mentropyd\u001b[0m\u001b[0;34m(\u001b[0m\u001b[0mlist\u001b[0m\u001b[0;34m(\u001b[0m\u001b[0mzip\u001b[0m\u001b[0;34m(\u001b[0m\u001b[0mx\u001b[0m\u001b[0;34m,\u001b[0m \u001b[0my\u001b[0m\u001b[0;34m)\u001b[0m\u001b[0;34m)\u001b[0m\u001b[0;34m)\u001b[0m\u001b[0;34m+\u001b[0m\u001b[0mentropyd\u001b[0m\u001b[0;34m(\u001b[0m\u001b[0mx\u001b[0m\u001b[0;34m)\u001b[0m\u001b[0;34m+\u001b[0m\u001b[0mentropyd\u001b[0m\u001b[0;34m(\u001b[0m\u001b[0my\u001b[0m\u001b[0;34m)\u001b[0m\u001b[0;34m\u001b[0m\u001b[0;34m\u001b[0m\u001b[0m\n\u001b[0m\u001b[1;32m    104\u001b[0m \u001b[0;34m\u001b[0m\u001b[0m\n\u001b[1;32m    105\u001b[0m \u001b[0;34m\u001b[0m\u001b[0m\n",
            "\u001b[0;32m/usr/local/lib/python3.7/dist-packages/skfeature/utility/entropy_estimators.py\u001b[0m in \u001b[0;36mentropyd\u001b[0;34m(sx, base)\u001b[0m\n\u001b[1;32m     93\u001b[0m     \"\"\"\n\u001b[1;32m     94\u001b[0m \u001b[0;34m\u001b[0m\u001b[0m\n\u001b[0;32m---> 95\u001b[0;31m     \u001b[0;32mreturn\u001b[0m \u001b[0mentropyfromprobs\u001b[0m\u001b[0;34m(\u001b[0m\u001b[0mhist\u001b[0m\u001b[0;34m(\u001b[0m\u001b[0msx\u001b[0m\u001b[0;34m)\u001b[0m\u001b[0;34m,\u001b[0m \u001b[0mbase\u001b[0m\u001b[0;34m=\u001b[0m\u001b[0mbase\u001b[0m\u001b[0;34m)\u001b[0m\u001b[0;34m\u001b[0m\u001b[0;34m\u001b[0m\u001b[0m\n\u001b[0m\u001b[1;32m     96\u001b[0m \u001b[0;34m\u001b[0m\u001b[0m\n\u001b[1;32m     97\u001b[0m \u001b[0;34m\u001b[0m\u001b[0m\n",
            "\u001b[0;32m/usr/local/lib/python3.7/dist-packages/skfeature/utility/entropy_estimators.py\u001b[0m in \u001b[0;36mentropyfromprobs\u001b[0;34m(probs, base)\u001b[0m\n\u001b[1;32m    122\u001b[0m \u001b[0;32mdef\u001b[0m \u001b[0mentropyfromprobs\u001b[0m\u001b[0;34m(\u001b[0m\u001b[0mprobs\u001b[0m\u001b[0;34m,\u001b[0m \u001b[0mbase\u001b[0m\u001b[0;34m=\u001b[0m\u001b[0;36m2\u001b[0m\u001b[0;34m)\u001b[0m\u001b[0;34m:\u001b[0m\u001b[0;34m\u001b[0m\u001b[0;34m\u001b[0m\u001b[0m\n\u001b[1;32m    123\u001b[0m     \u001b[0;31m# Turn a normalized list of probabilities of discrete outcomes into entropy (base 2)\u001b[0m\u001b[0;34m\u001b[0m\u001b[0;34m\u001b[0m\u001b[0;34m\u001b[0m\u001b[0m\n\u001b[0;32m--> 124\u001b[0;31m     \u001b[0;32mreturn\u001b[0m \u001b[0;34m-\u001b[0m\u001b[0msum\u001b[0m\u001b[0;34m(\u001b[0m\u001b[0mmap\u001b[0m\u001b[0;34m(\u001b[0m\u001b[0melog\u001b[0m\u001b[0;34m,\u001b[0m \u001b[0mprobs\u001b[0m\u001b[0;34m)\u001b[0m\u001b[0;34m)\u001b[0m\u001b[0;34m/\u001b[0m\u001b[0mlog\u001b[0m\u001b[0;34m(\u001b[0m\u001b[0mbase\u001b[0m\u001b[0;34m)\u001b[0m\u001b[0;34m\u001b[0m\u001b[0;34m\u001b[0m\u001b[0m\n\u001b[0m\u001b[1;32m    125\u001b[0m \u001b[0;34m\u001b[0m\u001b[0m\n\u001b[1;32m    126\u001b[0m \u001b[0;34m\u001b[0m\u001b[0m\n",
            "\u001b[0;31mKeyboardInterrupt\u001b[0m: "
          ]
        }
      ]
    },
    {
      "cell_type": "code",
      "metadata": {
        "id": "HjbO9S3sTnXh",
        "colab": {
          "base_uri": "https://localhost:8080/",
          "height": 312
        },
        "outputId": "1aaf70c8-0049-4065-b565-4208dfe5f871"
      },
      "source": [
        "def DATA_PROCESS(url_link=\"https://raw.githubusercontent.com/NSECResearchCD-SLB/PEERJ_MFSAC_EC/main/CANCER%20GENE%20EXPRESSION%20DATASETS/leukemia.csv\"):\n",
        "    DF=pd.read_csv(url_link,sep=\"\\t\",header=None)\n",
        "    X=DF.iloc[:,:-1]\n",
        "    Y=DF.iloc[:,-1]\n",
        "    X=pd.DataFrame(MinMaxScaler().fit_transform(X))\n",
        "    return X,Y\n",
        "(x,y)=DATA_PROCESS()"
      ],
      "execution_count": null,
      "outputs": [
        {
          "output_type": "error",
          "ename": "NameError",
          "evalue": "ignored",
          "traceback": [
            "\u001b[0;31m---------------------------------------------------------------------------\u001b[0m",
            "\u001b[0;31mNameError\u001b[0m                                 Traceback (most recent call last)",
            "\u001b[0;32m<ipython-input-9-544795e87586>\u001b[0m in \u001b[0;36m<module>\u001b[0;34m()\u001b[0m\n\u001b[1;32m      5\u001b[0m     \u001b[0mX\u001b[0m\u001b[0;34m=\u001b[0m\u001b[0mpd\u001b[0m\u001b[0;34m.\u001b[0m\u001b[0mDataFrame\u001b[0m\u001b[0;34m(\u001b[0m\u001b[0mMinMaxScaler\u001b[0m\u001b[0;34m(\u001b[0m\u001b[0;34m)\u001b[0m\u001b[0;34m.\u001b[0m\u001b[0mfit_transform\u001b[0m\u001b[0;34m(\u001b[0m\u001b[0mX\u001b[0m\u001b[0;34m)\u001b[0m\u001b[0;34m)\u001b[0m\u001b[0;34m\u001b[0m\u001b[0;34m\u001b[0m\u001b[0m\n\u001b[1;32m      6\u001b[0m     \u001b[0;32mreturn\u001b[0m \u001b[0mX\u001b[0m\u001b[0;34m,\u001b[0m\u001b[0mY\u001b[0m\u001b[0;34m\u001b[0m\u001b[0;34m\u001b[0m\u001b[0m\n\u001b[0;32m----> 7\u001b[0;31m \u001b[0;34m(\u001b[0m\u001b[0mx\u001b[0m\u001b[0;34m,\u001b[0m\u001b[0my\u001b[0m\u001b[0;34m)\u001b[0m\u001b[0;34m=\u001b[0m\u001b[0mDATA_PROCESS\u001b[0m\u001b[0;34m(\u001b[0m\u001b[0;34m)\u001b[0m\u001b[0;34m\u001b[0m\u001b[0;34m\u001b[0m\u001b[0m\n\u001b[0m",
            "\u001b[0;32m<ipython-input-9-544795e87586>\u001b[0m in \u001b[0;36mDATA_PROCESS\u001b[0;34m(url_link)\u001b[0m\n\u001b[1;32m      1\u001b[0m \u001b[0;32mdef\u001b[0m \u001b[0mDATA_PROCESS\u001b[0m\u001b[0;34m(\u001b[0m\u001b[0murl_link\u001b[0m\u001b[0;34m=\u001b[0m\u001b[0;34m\"https://raw.githubusercontent.com/NSECResearchCD-SLB/PEERJ_MFSAC_EC/main/CANCER%20GENE%20EXPRESSION%20DATASETS/leukemia.csv\"\u001b[0m\u001b[0;34m)\u001b[0m\u001b[0;34m:\u001b[0m\u001b[0;34m\u001b[0m\u001b[0;34m\u001b[0m\u001b[0m\n\u001b[0;32m----> 2\u001b[0;31m     \u001b[0mDF\u001b[0m\u001b[0;34m=\u001b[0m\u001b[0mpd\u001b[0m\u001b[0;34m.\u001b[0m\u001b[0mread_csv\u001b[0m\u001b[0;34m(\u001b[0m\u001b[0murl_link\u001b[0m\u001b[0;34m,\u001b[0m\u001b[0msep\u001b[0m\u001b[0;34m=\u001b[0m\u001b[0;34m\"\\t\"\u001b[0m\u001b[0;34m,\u001b[0m\u001b[0mheader\u001b[0m\u001b[0;34m=\u001b[0m\u001b[0;32mNone\u001b[0m\u001b[0;34m)\u001b[0m\u001b[0;34m\u001b[0m\u001b[0;34m\u001b[0m\u001b[0m\n\u001b[0m\u001b[1;32m      3\u001b[0m     \u001b[0mX\u001b[0m\u001b[0;34m=\u001b[0m\u001b[0mDF\u001b[0m\u001b[0;34m.\u001b[0m\u001b[0miloc\u001b[0m\u001b[0;34m[\u001b[0m\u001b[0;34m:\u001b[0m\u001b[0;34m,\u001b[0m\u001b[0;34m:\u001b[0m\u001b[0;34m-\u001b[0m\u001b[0;36m1\u001b[0m\u001b[0;34m]\u001b[0m\u001b[0;34m\u001b[0m\u001b[0;34m\u001b[0m\u001b[0m\n\u001b[1;32m      4\u001b[0m     \u001b[0mY\u001b[0m\u001b[0;34m=\u001b[0m\u001b[0mDF\u001b[0m\u001b[0;34m.\u001b[0m\u001b[0miloc\u001b[0m\u001b[0;34m[\u001b[0m\u001b[0;34m:\u001b[0m\u001b[0;34m,\u001b[0m\u001b[0;34m-\u001b[0m\u001b[0;36m1\u001b[0m\u001b[0;34m]\u001b[0m\u001b[0;34m\u001b[0m\u001b[0;34m\u001b[0m\u001b[0m\n\u001b[1;32m      5\u001b[0m     \u001b[0mX\u001b[0m\u001b[0;34m=\u001b[0m\u001b[0mpd\u001b[0m\u001b[0;34m.\u001b[0m\u001b[0mDataFrame\u001b[0m\u001b[0;34m(\u001b[0m\u001b[0mMinMaxScaler\u001b[0m\u001b[0;34m(\u001b[0m\u001b[0;34m)\u001b[0m\u001b[0;34m.\u001b[0m\u001b[0mfit_transform\u001b[0m\u001b[0;34m(\u001b[0m\u001b[0mX\u001b[0m\u001b[0;34m)\u001b[0m\u001b[0;34m)\u001b[0m\u001b[0;34m\u001b[0m\u001b[0;34m\u001b[0m\u001b[0m\n",
            "\u001b[0;31mNameError\u001b[0m: name 'pd' is not defined"
          ]
        }
      ]
    },
    {
      "cell_type": "code",
      "metadata": {
        "id": "8VjvSxfVKv6U"
      },
      "source": [
        "  #mrmr code\n",
        "  model= svm.SVC(kernel='poly')\n",
        "  x=pd.read_csv('mrmrLeukemia.csv',sep=\"\\t\")\n",
        "  no=50\n",
        "  x1=x.iloc[:,:no]\n",
        "  cv=LeaveOneOut()\n",
        "  \n",
        "  scores=cross_val_score(model, x1, y, scoring='accuracy', cv=cv)\n",
        "  a=sum(scores)/len(scores)\n",
        "  max=0\n",
        "  count=0\n",
        "  while count<10:\n",
        "    #add 50 more features in x1\n",
        "    no+=50\n",
        "    x1=x.iloc[:,:no]\n",
        "    #evaluation using loocv\n",
        "    scores=cross_val_score(model, x1, y, scoring='accuracy', cv=cv)\n",
        "    a=sum(scores)/len(scores)\n",
        "    if a>=max:\n",
        "        max=a\n",
        "    else:\n",
        "      x1=x.iloc[:,:no-10]\n",
        "      break\n",
        "    count+=1\n",
        " \n"
      ],
      "execution_count": null,
      "outputs": []
    },
    {
      "cell_type": "code",
      "metadata": {
        "id": "K-Q4K4B5TmUS"
      },
      "source": [
        "x=x1"
      ],
      "execution_count": null,
      "outputs": []
    },
    {
      "cell_type": "code",
      "metadata": {
        "id": "1pzpo68DcAqj",
        "colab": {
          "base_uri": "https://localhost:8080/"
        },
        "outputId": "2233e859-22ed-4f27-be4e-a5577b4b3b94"
      },
      "source": [
        "x.shape"
      ],
      "execution_count": null,
      "outputs": [
        {
          "output_type": "execute_result",
          "data": {
            "text/plain": [
              "(72, 550)"
            ]
          },
          "metadata": {
            "tags": []
          },
          "execution_count": 27
        }
      ]
    },
    {
      "cell_type": "code",
      "metadata": {
        "id": "ZkQk8LLn9Xuw",
        "colab": {
          "base_uri": "https://localhost:8080/",
          "height": 369
        },
        "outputId": "3c7d105a-4acb-48d7-8336-250e45cbefdd"
      },
      "source": [
        "x=pd.read_csv('mrmrLeukemia.csv',sep=\"\\t\")"
      ],
      "execution_count": null,
      "outputs": [
        {
          "output_type": "error",
          "ename": "FileNotFoundError",
          "evalue": "ignored",
          "traceback": [
            "\u001b[0;31m---------------------------------------------------------------------------\u001b[0m",
            "\u001b[0;31mFileNotFoundError\u001b[0m                         Traceback (most recent call last)",
            "\u001b[0;32m<ipython-input-15-926c0304d687>\u001b[0m in \u001b[0;36m<module>\u001b[0;34m()\u001b[0m\n\u001b[0;32m----> 1\u001b[0;31m \u001b[0mx\u001b[0m\u001b[0;34m=\u001b[0m\u001b[0mpd\u001b[0m\u001b[0;34m.\u001b[0m\u001b[0mread_csv\u001b[0m\u001b[0;34m(\u001b[0m\u001b[0;34m'mrmrLeukemia.csv'\u001b[0m\u001b[0;34m,\u001b[0m\u001b[0msep\u001b[0m\u001b[0;34m=\u001b[0m\u001b[0;34m\"\\t\"\u001b[0m\u001b[0;34m)\u001b[0m\u001b[0;34m\u001b[0m\u001b[0;34m\u001b[0m\u001b[0m\n\u001b[0m",
            "\u001b[0;32m/usr/local/lib/python3.7/dist-packages/pandas/io/parsers.py\u001b[0m in \u001b[0;36mread_csv\u001b[0;34m(filepath_or_buffer, sep, delimiter, header, names, index_col, usecols, squeeze, prefix, mangle_dupe_cols, dtype, engine, converters, true_values, false_values, skipinitialspace, skiprows, skipfooter, nrows, na_values, keep_default_na, na_filter, verbose, skip_blank_lines, parse_dates, infer_datetime_format, keep_date_col, date_parser, dayfirst, cache_dates, iterator, chunksize, compression, thousands, decimal, lineterminator, quotechar, quoting, doublequote, escapechar, comment, encoding, dialect, error_bad_lines, warn_bad_lines, delim_whitespace, low_memory, memory_map, float_precision)\u001b[0m\n\u001b[1;32m    686\u001b[0m     )\n\u001b[1;32m    687\u001b[0m \u001b[0;34m\u001b[0m\u001b[0m\n\u001b[0;32m--> 688\u001b[0;31m     \u001b[0;32mreturn\u001b[0m \u001b[0m_read\u001b[0m\u001b[0;34m(\u001b[0m\u001b[0mfilepath_or_buffer\u001b[0m\u001b[0;34m,\u001b[0m \u001b[0mkwds\u001b[0m\u001b[0;34m)\u001b[0m\u001b[0;34m\u001b[0m\u001b[0;34m\u001b[0m\u001b[0m\n\u001b[0m\u001b[1;32m    689\u001b[0m \u001b[0;34m\u001b[0m\u001b[0m\n\u001b[1;32m    690\u001b[0m \u001b[0;34m\u001b[0m\u001b[0m\n",
            "\u001b[0;32m/usr/local/lib/python3.7/dist-packages/pandas/io/parsers.py\u001b[0m in \u001b[0;36m_read\u001b[0;34m(filepath_or_buffer, kwds)\u001b[0m\n\u001b[1;32m    452\u001b[0m \u001b[0;34m\u001b[0m\u001b[0m\n\u001b[1;32m    453\u001b[0m     \u001b[0;31m# Create the parser.\u001b[0m\u001b[0;34m\u001b[0m\u001b[0;34m\u001b[0m\u001b[0;34m\u001b[0m\u001b[0m\n\u001b[0;32m--> 454\u001b[0;31m     \u001b[0mparser\u001b[0m \u001b[0;34m=\u001b[0m \u001b[0mTextFileReader\u001b[0m\u001b[0;34m(\u001b[0m\u001b[0mfp_or_buf\u001b[0m\u001b[0;34m,\u001b[0m \u001b[0;34m**\u001b[0m\u001b[0mkwds\u001b[0m\u001b[0;34m)\u001b[0m\u001b[0;34m\u001b[0m\u001b[0;34m\u001b[0m\u001b[0m\n\u001b[0m\u001b[1;32m    455\u001b[0m \u001b[0;34m\u001b[0m\u001b[0m\n\u001b[1;32m    456\u001b[0m     \u001b[0;32mif\u001b[0m \u001b[0mchunksize\u001b[0m \u001b[0;32mor\u001b[0m \u001b[0miterator\u001b[0m\u001b[0;34m:\u001b[0m\u001b[0;34m\u001b[0m\u001b[0;34m\u001b[0m\u001b[0m\n",
            "\u001b[0;32m/usr/local/lib/python3.7/dist-packages/pandas/io/parsers.py\u001b[0m in \u001b[0;36m__init__\u001b[0;34m(self, f, engine, **kwds)\u001b[0m\n\u001b[1;32m    946\u001b[0m             \u001b[0mself\u001b[0m\u001b[0;34m.\u001b[0m\u001b[0moptions\u001b[0m\u001b[0;34m[\u001b[0m\u001b[0;34m\"has_index_names\"\u001b[0m\u001b[0;34m]\u001b[0m \u001b[0;34m=\u001b[0m \u001b[0mkwds\u001b[0m\u001b[0;34m[\u001b[0m\u001b[0;34m\"has_index_names\"\u001b[0m\u001b[0;34m]\u001b[0m\u001b[0;34m\u001b[0m\u001b[0;34m\u001b[0m\u001b[0m\n\u001b[1;32m    947\u001b[0m \u001b[0;34m\u001b[0m\u001b[0m\n\u001b[0;32m--> 948\u001b[0;31m         \u001b[0mself\u001b[0m\u001b[0;34m.\u001b[0m\u001b[0m_make_engine\u001b[0m\u001b[0;34m(\u001b[0m\u001b[0mself\u001b[0m\u001b[0;34m.\u001b[0m\u001b[0mengine\u001b[0m\u001b[0;34m)\u001b[0m\u001b[0;34m\u001b[0m\u001b[0;34m\u001b[0m\u001b[0m\n\u001b[0m\u001b[1;32m    949\u001b[0m \u001b[0;34m\u001b[0m\u001b[0m\n\u001b[1;32m    950\u001b[0m     \u001b[0;32mdef\u001b[0m \u001b[0mclose\u001b[0m\u001b[0;34m(\u001b[0m\u001b[0mself\u001b[0m\u001b[0;34m)\u001b[0m\u001b[0;34m:\u001b[0m\u001b[0;34m\u001b[0m\u001b[0;34m\u001b[0m\u001b[0m\n",
            "\u001b[0;32m/usr/local/lib/python3.7/dist-packages/pandas/io/parsers.py\u001b[0m in \u001b[0;36m_make_engine\u001b[0;34m(self, engine)\u001b[0m\n\u001b[1;32m   1178\u001b[0m     \u001b[0;32mdef\u001b[0m \u001b[0m_make_engine\u001b[0m\u001b[0;34m(\u001b[0m\u001b[0mself\u001b[0m\u001b[0;34m,\u001b[0m \u001b[0mengine\u001b[0m\u001b[0;34m=\u001b[0m\u001b[0;34m\"c\"\u001b[0m\u001b[0;34m)\u001b[0m\u001b[0;34m:\u001b[0m\u001b[0;34m\u001b[0m\u001b[0;34m\u001b[0m\u001b[0m\n\u001b[1;32m   1179\u001b[0m         \u001b[0;32mif\u001b[0m \u001b[0mengine\u001b[0m \u001b[0;34m==\u001b[0m \u001b[0;34m\"c\"\u001b[0m\u001b[0;34m:\u001b[0m\u001b[0;34m\u001b[0m\u001b[0;34m\u001b[0m\u001b[0m\n\u001b[0;32m-> 1180\u001b[0;31m             \u001b[0mself\u001b[0m\u001b[0;34m.\u001b[0m\u001b[0m_engine\u001b[0m \u001b[0;34m=\u001b[0m \u001b[0mCParserWrapper\u001b[0m\u001b[0;34m(\u001b[0m\u001b[0mself\u001b[0m\u001b[0;34m.\u001b[0m\u001b[0mf\u001b[0m\u001b[0;34m,\u001b[0m \u001b[0;34m**\u001b[0m\u001b[0mself\u001b[0m\u001b[0;34m.\u001b[0m\u001b[0moptions\u001b[0m\u001b[0;34m)\u001b[0m\u001b[0;34m\u001b[0m\u001b[0;34m\u001b[0m\u001b[0m\n\u001b[0m\u001b[1;32m   1181\u001b[0m         \u001b[0;32melse\u001b[0m\u001b[0;34m:\u001b[0m\u001b[0;34m\u001b[0m\u001b[0;34m\u001b[0m\u001b[0m\n\u001b[1;32m   1182\u001b[0m             \u001b[0;32mif\u001b[0m \u001b[0mengine\u001b[0m \u001b[0;34m==\u001b[0m \u001b[0;34m\"python\"\u001b[0m\u001b[0;34m:\u001b[0m\u001b[0;34m\u001b[0m\u001b[0;34m\u001b[0m\u001b[0m\n",
            "\u001b[0;32m/usr/local/lib/python3.7/dist-packages/pandas/io/parsers.py\u001b[0m in \u001b[0;36m__init__\u001b[0;34m(self, src, **kwds)\u001b[0m\n\u001b[1;32m   2008\u001b[0m         \u001b[0mkwds\u001b[0m\u001b[0;34m[\u001b[0m\u001b[0;34m\"usecols\"\u001b[0m\u001b[0;34m]\u001b[0m \u001b[0;34m=\u001b[0m \u001b[0mself\u001b[0m\u001b[0;34m.\u001b[0m\u001b[0musecols\u001b[0m\u001b[0;34m\u001b[0m\u001b[0;34m\u001b[0m\u001b[0m\n\u001b[1;32m   2009\u001b[0m \u001b[0;34m\u001b[0m\u001b[0m\n\u001b[0;32m-> 2010\u001b[0;31m         \u001b[0mself\u001b[0m\u001b[0;34m.\u001b[0m\u001b[0m_reader\u001b[0m \u001b[0;34m=\u001b[0m \u001b[0mparsers\u001b[0m\u001b[0;34m.\u001b[0m\u001b[0mTextReader\u001b[0m\u001b[0;34m(\u001b[0m\u001b[0msrc\u001b[0m\u001b[0;34m,\u001b[0m \u001b[0;34m**\u001b[0m\u001b[0mkwds\u001b[0m\u001b[0;34m)\u001b[0m\u001b[0;34m\u001b[0m\u001b[0;34m\u001b[0m\u001b[0m\n\u001b[0m\u001b[1;32m   2011\u001b[0m         \u001b[0mself\u001b[0m\u001b[0;34m.\u001b[0m\u001b[0munnamed_cols\u001b[0m \u001b[0;34m=\u001b[0m \u001b[0mself\u001b[0m\u001b[0;34m.\u001b[0m\u001b[0m_reader\u001b[0m\u001b[0;34m.\u001b[0m\u001b[0munnamed_cols\u001b[0m\u001b[0;34m\u001b[0m\u001b[0;34m\u001b[0m\u001b[0m\n\u001b[1;32m   2012\u001b[0m \u001b[0;34m\u001b[0m\u001b[0m\n",
            "\u001b[0;32mpandas/_libs/parsers.pyx\u001b[0m in \u001b[0;36mpandas._libs.parsers.TextReader.__cinit__\u001b[0;34m()\u001b[0m\n",
            "\u001b[0;32mpandas/_libs/parsers.pyx\u001b[0m in \u001b[0;36mpandas._libs.parsers.TextReader._setup_parser_source\u001b[0;34m()\u001b[0m\n",
            "\u001b[0;31mFileNotFoundError\u001b[0m: [Errno 2] No such file or directory: 'mrmrLeukemia.csv'"
          ]
        }
      ]
    },
    {
      "cell_type": "code",
      "metadata": {
        "id": "xov9EPgVXunW",
        "colab": {
          "base_uri": "https://localhost:8080/"
        },
        "outputId": "7b65a8c6-ed09-41ce-a454-955049ba217f"
      },
      "source": [
        "if __name__ == \"__main__\":\n",
        "    \n",
        "    c=x.shape[1]\n",
        "    r=x.shape[0]\n",
        "    print(c, \" \", r)\n",
        "      \n",
        "    #queen=[]\n",
        "    obj=ABC(80) # population initialised \n",
        "\n",
        "   \n",
        "    Mlimit=5\n",
        "    for i in range(maxIter):\n",
        "        print(\"abc iter: \", i)\n",
        "        # print(\"Going to employed bee iter: \",i)\n",
        "        obj.employed()\n",
        "        queen=obj.bestsol()\n",
        "\n",
        "        \n",
        "        # print(\"Going to onlooker bee phase iter: \",i)\n",
        "        obj.onlooker()\n",
        "        queen=obj.bestsol()\n",
        "      #  print(\" Queen in Onlooker Phase Iter \",i,\" is \",obj.pop[queen].printsol())\n",
        "        \n",
        "        # print(\"Going to ScoutBee iter \",i)\n",
        "        obj.scout(Mlimit)\n",
        "        # queen.append(obj.pop[obj.bestsol()])\n",
        "        queen=obj.bestsol()\n",
        "       # print(\" Queen in Scout Phase Iter \",i,\" is \",obj.pop[queen].printsol())"
      ],
      "execution_count": null,
      "outputs": [
        {
          "output_type": "stream",
          "text": [
            "550   72\n",
            "abc iter:  0\n",
            "abc iter:  1\n",
            "abc iter:  2\n",
            "abc iter:  3\n",
            "abc iter:  4\n",
            "abc iter:  5\n",
            "abc iter:  6\n",
            "abc iter:  7\n",
            "abc iter:  8\n",
            "abc iter:  9\n",
            "abc iter:  10\n",
            "abc iter:  11\n",
            "abc iter:  12\n",
            "abc iter:  13\n",
            "abc iter:  14\n",
            "abc iter:  15\n",
            "abc iter:  16\n",
            "abc iter:  17\n",
            "abc iter:  18\n",
            "abc iter:  19\n"
          ],
          "name": "stdout"
        }
      ]
    },
    {
      "cell_type": "code",
      "metadata": {
        "id": "fcw8tJ_sg5rr"
      },
      "source": [
        "\n",
        "def func(i):\n",
        "  return(obj.pop[i].fitnessloocv())\n",
        "\n",
        "\n",
        "# for i in queen:\n",
        "#   print(obj.pop[i].fitnessloocv(), \"\\n\")"
      ],
      "execution_count": null,
      "outputs": []
    },
    {
      "cell_type": "code",
      "metadata": {
        "id": "xsMxn8j4SqD5",
        "colab": {
          "base_uri": "https://localhost:8080/"
        },
        "outputId": "e5d19a5c-ef84-4cc0-b42d-033efe760c39"
      },
      "source": [
        "bestsolution=queen\n",
        "maxcf=0\n",
        "for _ in range(15):\n",
        "  xx=bestsolution.ClassificationAccuracy()\n",
        "  if maxcf < xx:\n",
        "    maxcf=xx\n",
        "print(maxcf)\n",
        "print(len(np.nonzero(bestsolution.converttobinary())[0]))"
      ],
      "execution_count": null,
      "outputs": [
        {
          "output_type": "stream",
          "text": [
            "1.0\n",
            "256\n"
          ],
          "name": "stdout"
        }
      ]
    },
    {
      "cell_type": "code",
      "metadata": {
        "id": "-5F0YAn4S__B",
        "colab": {
          "base_uri": "https://localhost:8080/"
        },
        "outputId": "2c85dc03-3627-404f-9485-ddb12051eff9"
      },
      "source": [
        "bestsolution.fitnessfunc()"
      ],
      "execution_count": null,
      "outputs": [
        {
          "output_type": "execute_result",
          "data": {
            "text/plain": [
              "0.9464285714285714"
            ]
          },
          "metadata": {
            "tags": []
          },
          "execution_count": 31
        }
      ]
    },
    {
      "cell_type": "code",
      "metadata": {
        "id": "QgoSMZUZTISj",
        "colab": {
          "base_uri": "https://localhost:8080/"
        },
        "outputId": "f2d08816-672e-43e1-dcad-26d2aa170719"
      },
      "source": [
        "bestsolution.loocv()"
      ],
      "execution_count": null,
      "outputs": [
        {
          "output_type": "execute_result",
          "data": {
            "text/plain": [
              "0.9861111111111112"
            ]
          },
          "metadata": {
            "tags": []
          },
          "execution_count": 33
        }
      ]
    },
    {
      "cell_type": "code",
      "metadata": {
        "id": "HnjGKrJRwRYl",
        "colab": {
          "base_uri": "https://localhost:8080/"
        },
        "outputId": "5cae24cc-23f0-4130-937e-25a9d278967c"
      },
      "source": [
        "a=0\n",
        "m=0\n",
        "for i in range(100):\n",
        "  t=bestsolution.ClassificationAccuracy()\n",
        "  a+=t\n",
        "  if t>m:\n",
        "    m=t\n",
        "\n",
        "\n",
        "print(a/100)\n",
        "print(m)"
      ],
      "execution_count": null,
      "outputs": [
        {
          "output_type": "stream",
          "text": [
            "0.9836363636363633\n",
            "1.0\n"
          ],
          "name": "stdout"
        }
      ]
    },
    {
      "cell_type": "code",
      "metadata": {
        "id": "rjiWq3EZgyjA"
      },
      "source": [
        ""
      ],
      "execution_count": null,
      "outputs": []
    }
  ]
}